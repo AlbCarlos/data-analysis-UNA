{
  "nbformat": 4,
  "nbformat_minor": 0,
  "metadata": {
    "colab": {
      "provenance": [],
      "authorship_tag": "ABX9TyM60nuHTqggjD3smz/pv69D",
      "include_colab_link": true
    },
    "kernelspec": {
      "name": "python3",
      "display_name": "Python 3"
    },
    "language_info": {
      "name": "python"
    }
  },
  "cells": [
    {
      "cell_type": "markdown",
      "metadata": {
        "id": "view-in-github",
        "colab_type": "text"
      },
      "source": [
        "<a href=\"https://colab.research.google.com/github/AlbCarlos/data-analysis-UNA/blob/main/Laboratorio2_CarlosAlbornoz.ipynb\" target=\"_parent\"><img src=\"https://colab.research.google.com/assets/colab-badge.svg\" alt=\"Open In Colab\"/></a>"
      ]
    },
    {
      "cell_type": "code",
      "execution_count": null,
      "metadata": {
        "colab": {
          "base_uri": "https://localhost:8080/"
        },
        "id": "WtZTXb-o3O6x",
        "outputId": "836eab89-344f-42de-ffff-94fa3e56c338"
      },
      "outputs": [
        {
          "output_type": "stream",
          "name": "stdout",
          "text": [
            "----------------------------------------------\n",
            "Ejemplo 2: IMPRIMIR EL MENOR DE DOS NÚMEROS\n",
            "----------------------------------------------\n",
            "Ingrese 2 numeros:\n",
            "Primer numero: 1812\n",
            "Segundo numero: 5798237\n",
            "\n",
            "SALIDA\n",
            "El menor es:  1812\n"
          ]
        }
      ],
      "source": [
        "#Decoración: nombre del Algorigmo\n",
        "print(\"----------------------------------------------\")\n",
        "print(\"Ejemplo 2: IMPRIMIR EL MENOR DE DOS NÚMEROS\")\n",
        "print(\"----------------------------------------------\")\n",
        "\n",
        "#Entradas\n",
        "print(\"Ingrese 2 numeros:\")\n",
        "x = int(input(\"Primer numero: \"))\n",
        "y = int(input(\"Segundo numero: \"))\n",
        "print(\"\\nSALIDA\")\n",
        "\n",
        "#Nota: No olvdarse de la indentacion\n",
        "if x > y:\n",
        "  print(\"El menor es: \", y)\n",
        "else:\n",
        "  print(\"El menor es: \", x)"
      ]
    },
    {
      "cell_type": "markdown",
      "source": [
        "# Ejercicio del año Bisiesto"
      ],
      "metadata": {
        "id": "wo8Dh3HV5Y4g"
      }
    },
    {
      "cell_type": "code",
      "source": [
        "print(\"Ejercicio Bisiesto\")\n",
        "year = int(input('Ingrese el año: '))\n",
        "if(year % 400 == 0) or (year % 4 == 0) and (year % 100 != 0):\n",
        "  print(f'El año {year} es bisiesto') \n",
        "else: \n",
        "  print(f'El año {year} no es bisiesto')"
      ],
      "metadata": {
        "colab": {
          "base_uri": "https://localhost:8080/"
        },
        "id": "_oFRiWvS5c3W",
        "outputId": "0da32e07-9cee-463b-9794-b3653a464a05"
      },
      "execution_count": null,
      "outputs": [
        {
          "output_type": "stream",
          "name": "stdout",
          "text": [
            "Ejercicio Bisiesto\n",
            "Ingrese el año: 2400\n",
            "El año 2400 es bisiesto\n"
          ]
        }
      ]
    },
    {
      "cell_type": "code",
      "source": [
        "switcher = {\n",
        "    1: \"January\",\n",
        "    2: \"Febreuary\",\n",
        "    3: \"March\",\n",
        "    4: \"April\",\n",
        "    5: \"May\",\n",
        "    6: \"June\",\n",
        "    7: \"July\",\n",
        "    8: \"August\",\n",
        "    9: \"September\",\n",
        "    10: \"October\",\n",
        "    11: \"November\",\n",
        "    12: \"December\"\n",
        "}\n",
        "\n",
        "argument = int(input('Enter a month number: '))\n",
        "print(switcher.get(argument))"
      ],
      "metadata": {
        "colab": {
          "base_uri": "https://localhost:8080/"
        },
        "id": "gSGmq0j07DgV",
        "outputId": "187da15e-f94e-4af0-9bd0-e978d70eeaea"
      },
      "execution_count": null,
      "outputs": [
        {
          "output_type": "stream",
          "name": "stdout",
          "text": [
            "Enter a month number: 2929\n",
            "None\n"
          ]
        }
      ]
    }
  ]
}