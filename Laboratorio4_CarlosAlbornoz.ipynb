{
  "nbformat": 4,
  "nbformat_minor": 0,
  "metadata": {
    "colab": {
      "provenance": [],
      "authorship_tag": "ABX9TyNaEyQZsXFMI3pSS2iXoAH5",
      "include_colab_link": true
    },
    "kernelspec": {
      "name": "python3",
      "display_name": "Python 3"
    },
    "language_info": {
      "name": "python"
    }
  },
  "cells": [
    {
      "cell_type": "markdown",
      "metadata": {
        "id": "view-in-github",
        "colab_type": "text"
      },
      "source": [
        "<a href=\"https://colab.research.google.com/github/AlbCarlos/data-analysis-UNA/blob/main/Laboratorio4_CarlosAlbornoz.ipynb\" target=\"_parent\"><img src=\"https://colab.research.google.com/assets/colab-badge.svg\" alt=\"Open In Colab\"/></a>"
      ]
    },
    {
      "cell_type": "markdown",
      "source": [
        "# Laboratorio con CSV"
      ],
      "metadata": {
        "id": "3L6VX_ZqgXnt"
      }
    },
    {
      "cell_type": "code",
      "execution_count": 2,
      "metadata": {
        "colab": {
          "base_uri": "https://localhost:8080/"
        },
        "id": "3PUs2N_sfIC4",
        "outputId": "c148f7a0-8e72-4eb0-ddc4-3933e9d4614a"
      },
      "outputs": [
        {
          "output_type": "stream",
          "name": "stdout",
          "text": [
            "       fecha  hora  latitud  longitud  profundidad  magnitud  \\\n",
            "0        NaN   NaN   9.8367  -84.8539           20       2.9   \n",
            "1        NaN   NaN   5.4835  -82.7525            0       3.8   \n",
            "2        NaN   NaN   9.6201  -84.9293           18       2.7   \n",
            "3        NaN   NaN   9.2012  -84.8517           23       2.5   \n",
            "4        NaN   NaN   9.1283  -84.8525           20       2.9   \n",
            "...      ...   ...      ...       ...          ...       ...   \n",
            "36144    NaN   NaN   9.7962  -83.9948           68       3.5   \n",
            "36145    NaN   NaN   9.7869  -84.8249           21       2.3   \n",
            "36146    NaN   NaN   9.7893  -83.9996           67       1.9   \n",
            "36147    NaN   NaN   9.0047  -82.9092           19       2.0   \n",
            "36148    NaN   NaN  10.5778  -86.2345           18       2.7   \n",
            "\n",
            "                                        localizacion    codigo_user  \\\n",
            "0         2.7 km al Sureste de Paquera de Puntarenas       :fvegaMl   \n",
            "1             290.8 km al Sur de Pavon de Puntarenas       :fvegaMl   \n",
            "2         13.7 km al Sureste de Cobano de Puntarenas       :fvegaMl   \n",
            "3          49.6 km al Suroeste de Jaco de Puntarenas       :fvegaMl   \n",
            "4       55.8 km al Suroeste de Parrita de Puntarenas       :fvegaMl   \n",
            "...                                              ...            ...   \n",
            "36144  1.8 km al Sureste de Patio de Agua de Cartago  UNA:jprottiMl   \n",
            "36145     8.6 km al Sureste de Paquera de Puntarenas          olDbg   \n",
            "36146    1.4 km al Noroeste de San Isidro de Cartago  UNA:jprottiMl   \n",
            "36147     5.7 km al Noreste de Pittier de Puntarenas     olDbgMlMwp   \n",
            "36148     48.4 km al Oeste de Sardinal de Guanacaste     olDbgMlMwp   \n",
            "\n",
            "             origen horalocal  ...     evid     orid        time  reviewed  \\\n",
            "0      unknown type  02:30:01  ...   249256   375173  1514800000         y   \n",
            "1      unknown type  06:10:26  ...   249026   375213  1514810000         y   \n",
            "2      unknown type  08:06:00  ...   249360   375304  1514820000         y   \n",
            "3      unknown type  09:08:07  ...   249033   375319  1514820000         y   \n",
            "4      unknown type  09:10:15  ...   249034   375322  1514820000         y   \n",
            "...             ...       ...  ...      ...      ...         ...       ...   \n",
            "36144  unknown type  15:21:00  ...  1366187  1683726  1672610000         y   \n",
            "36145  unknown type  16:50:38  ...  1366210  1683734  1672610000         -   \n",
            "36146  unknown type  16:01:34  ...  1366209  1683730  1672610000         y   \n",
            "36147  unknown type  23:51:47  ...  1366218  1683740  1672640000         -   \n",
            "36148  unknown type  23:01:46  ...  1366215  1683737  1672640000         -   \n",
            "\n",
            "       ndef  nass magtype  sdobs  counter cobertura  \n",
            "0        26    26      ml    NaN      NaN       NaN  \n",
            "1         8     8      ml    NaN      NaN       NaN  \n",
            "2        26    26      ml    NaN      NaN       NaN  \n",
            "3        14    14      ml    NaN      NaN       NaN  \n",
            "4        18    18      ml    NaN      NaN       NaN  \n",
            "...     ...   ...     ...    ...      ...       ...  \n",
            "36144    74    74      ml    NaN      NaN       NaN  \n",
            "36145    17    19      ml    NaN      NaN       NaN  \n",
            "36146    17    17      ml    NaN      NaN       NaN  \n",
            "36147    17    19      ml    NaN      NaN       NaN  \n",
            "36148     9     9      ml    NaN      NaN       NaN  \n",
            "\n",
            "[36149 rows x 23 columns]\n"
          ]
        }
      ],
      "source": [
        "import pandas as pd\n",
        "\n",
        "data = pd.read_csv('seismic-data.csv')\n",
        "df = pd.DataFrame(data)\n",
        "\n",
        "print(df)"
      ]
    }
  ]
}