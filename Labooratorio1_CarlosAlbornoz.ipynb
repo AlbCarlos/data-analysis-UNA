{
  "nbformat": 4,
  "nbformat_minor": 0,
  "metadata": {
    "colab": {
      "provenance": [],
      "authorship_tag": "ABX9TyNISAl4YXuD/lhIKKuw/VOV",
      "include_colab_link": true
    },
    "kernelspec": {
      "name": "python3",
      "display_name": "Python 3"
    },
    "language_info": {
      "name": "python"
    }
  },
  "cells": [
    {
      "cell_type": "markdown",
      "metadata": {
        "id": "view-in-github",
        "colab_type": "text"
      },
      "source": [
        "<a href=\"https://colab.research.google.com/github/AlbCarlos/data-analysis-UNA/blob/main/Labooratorio1_CarlosAlbornoz.ipynb\" target=\"_parent\"><img src=\"https://colab.research.google.com/assets/colab-badge.svg\" alt=\"Open In Colab\"/></a>"
      ]
    },
    {
      "cell_type": "markdown",
      "source": [
        "# Ejercicio 1 - Cálculo de la Distancia según MRU"
      ],
      "metadata": {
        "id": "1FtCyiTrHI33"
      }
    },
    {
      "cell_type": "code",
      "execution_count": null,
      "metadata": {
        "colab": {
          "base_uri": "https://localhost:8080/"
        },
        "id": "blQOm-PLHERS",
        "outputId": "4ec9bc2f-9627-4fc7-b46c-ea5a08ad86a1"
      },
      "outputs": [
        {
          "output_type": "stream",
          "name": "stdout",
          "text": [
            "Ejercicio #1 Calcular Distancia\n",
            "Ingrese la velocidad y el tiempo de la unidad movil\n",
            "Ingrese velocidad: 50\n",
            "Ingrese tiempo: 10\n",
            "La distancia recorrida fue: 500.0\n"
          ]
        }
      ],
      "source": [
        "print(\"Ejercicio #1 Calcular Distancia\")\n",
        "print(\"Ingrese la velocidad y el tiempo de la unidad movil\")\n",
        "velocity = float(input(\"Ingrese velocidad: \"))\n",
        "time = float(input(\"Ingrese tiempo: \"))\n",
        "print(f\"La distancia recorrida fue: {velocity * time}\")"
      ]
    },
    {
      "cell_type": "markdown",
      "source": [
        "# Ejercicio 2 - Promedio Simple"
      ],
      "metadata": {
        "id": "46R2ETupIa9X"
      }
    },
    {
      "cell_type": "code",
      "source": [
        "def getAverage(iterations):\n",
        "  sum = 0\n",
        "  for it in range(0,iterations):\n",
        "    sum += int(input(f'Introduzca Nota {it}: '))\n",
        "  \n",
        "  return sum / iterations\n",
        "\n",
        "print('Ejercicio #2 Promedio de Notas')\n",
        "SCORE_QTTY = 3\n",
        "print(f'El promedio de las notas es: {getAverage(SCORE_QTTY)}')\n"
      ],
      "metadata": {
        "colab": {
          "base_uri": "https://localhost:8080/"
        },
        "id": "3l9Z8LSvIZVn",
        "outputId": "22eefbc2-52c7-469f-c76b-6d861d5c0564"
      },
      "execution_count": null,
      "outputs": [
        {
          "output_type": "stream",
          "name": "stdout",
          "text": [
            "Ejercicio #2 Promedio de Notas\n",
            "Introduzca Nota 0: 10\n",
            "Introduzca Nota 1: 20\n",
            "Introduzca Nota 2: 30\n",
            "El promedio de las notas es: 20.0\n"
          ]
        }
      ]
    },
    {
      "cell_type": "markdown",
      "source": [
        "# Ejercicio 3 - Obtener puntaje final de postulante"
      ],
      "metadata": {
        "id": "HUI8pUmqKDAP"
      }
    },
    {
      "cell_type": "code",
      "source": [
        "CorrectR = int(input('Introduzca Respuestas correctas: '))\n",
        "IncorrectR = int(input('Introduzca Respuestas incorrectas: '))\n",
        "BlankR = int(input('Introduzca Respuestas en blanco: '))\n",
        "\n",
        "print(f'Puntaje final: {(3 * CorrectR) - IncorrectR}')"
      ],
      "metadata": {
        "colab": {
          "base_uri": "https://localhost:8080/"
        },
        "id": "T5mq0tNLLVIn",
        "outputId": "032a5a4f-6103-4758-964f-eaa94bdab433"
      },
      "execution_count": null,
      "outputs": [
        {
          "output_type": "stream",
          "name": "stdout",
          "text": [
            "Introduzca Respuestas correctas: 10\n",
            "Introduzca Respuestas incorrectas: 2\n",
            "Introduzca Respuestas en blanco: 2\n",
            "Puntaje final: 28\n"
          ]
        }
      ]
    }
  ]
}